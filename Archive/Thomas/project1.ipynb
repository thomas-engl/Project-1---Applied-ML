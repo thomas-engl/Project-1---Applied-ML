{
 "cells": [
  {
   "cell_type": "markdown",
   "id": "b209e219",
   "metadata": {
    "editable": true
   },
   "source": [
    "<!-- HTML file automatically generated from DocOnce source (https://github.com/doconce/doconce/)\n",
    "doconce format html Project1.do.txt  -->\n",
    "<!-- dom:TITLE: Project 1 on Machine Learning, deadline October 6 (midnight), 2025 -->"
   ]
  },
  {
   "cell_type": "markdown",
   "id": "6fa4c4bc",
   "metadata": {
    "editable": true
   },
   "source": [
    "# Project 1 on Machine Learning, deadline October 6 (midnight), 2025\n",
    "**Data Analysis and Machine Learning FYS-STK3155/FYS4155**, University of Oslo, Norway\n",
    "\n",
    "Date: **September 2**"
   ]
  },
  {
   "cell_type": "markdown",
   "id": "735b16c4",
   "metadata": {
    "editable": true
   },
   "source": [
    "## Preamble: Note on writing reports, using reference material, AI and other tools\n",
    "\n",
    "We want you to answer the three different projects by handing in\n",
    "reports written like a standard scientific/technical report.  The\n",
    "links at\n",
    "<https://github.com/CompPhysics/MachineLearning/tree/master/doc/Projects>\n",
    "contain more information. There you can find examples of previous\n",
    "reports, the projects themselves, how we grade reports etc. How to\n",
    "write reports will also be discussed during the various lab\n",
    "sessions. Please do ask us if you are in doubt.\n",
    "\n",
    "When using codes and material from other sources, you should refer to\n",
    "these in the bibliography of your report, indicating wherefrom you for\n",
    "example got the code, whether this is from the lecture notes,\n",
    "softwares like Scikit-Learn, TensorFlow, PyTorch or other sources. These sources\n",
    "should always be cited correctly. How to cite some\n",
    "of the libraries is often indicated from their corresponding GitHub\n",
    "sites or websites, see for example how to cite Scikit-Learn at\n",
    "<https://scikit-learn.org/dev/about.html>.\n",
    "\n",
    "We enocurage you to use tools like\n",
    "[ChatGPT](https://openai.com/chatgpt/) or similar in writing the report. If you use for example ChatGPT,\n",
    "please do cite it properly and include (if possible) your questions and answers as an addition to the report. This can\n",
    "be uploaded to for example your website, GitHub/GitLab or similar as supplemental material.\n",
    "\n",
    "If you would like to study other data sets, feel free to propose other\n",
    "sets. What we have proposed here are mere suggestions from our\n",
    "side. If you opt for another data set, consider using a set which has\n",
    "been studied in the scientific literature. This makes it easier for\n",
    "you to compare and analyze your results. Comparing with existing\n",
    "results from the scientific literature is also an essential element of\n",
    "the scientific discussion.  The University of California at Irvine\n",
    "with its Machine Learning repository at\n",
    "<https://archive.ics.uci.edu/ml/index.php> is an excellent site to\n",
    "look up for examples and\n",
    "inspiration. [Kaggle.com](https://www.kaggle.com/) is an equally\n",
    "interesting site. Feel free to explore these sites. When selecting\n",
    "other data sets, make sure these are sets used for regression problems\n",
    "(not classification)."
   ]
  },
  {
   "cell_type": "markdown",
   "id": "0b7956ca",
   "metadata": {
    "editable": true
   },
   "source": [
    "## Regression analysis and resampling methods\n",
    "\n",
    "The main aim of this project is to study in more detail various\n",
    "regression methods, including Ordinary Least Squares (OLS) reegression, Ridge regression and LASSO regression.\n",
    "In addition to the scientific part, in this course we want also to\n",
    "give you an experience in writing scientific reports.\n",
    "\n",
    "We will study how to fit polynomials to specific\n",
    "one-dimensional functions (feel free to replace the suggested function with more complicated ones).\n",
    "\n",
    "We will use Runge's function (see <https://en.wikipedia.org/wiki/Runge%27s_phenomenon> for a discussion).  The one-dimensional function we will study is"
   ]
  },
  {
   "cell_type": "markdown",
   "id": "28ba3d22",
   "metadata": {
    "editable": true
   },
   "source": [
    "$$\n",
    "f(x) = \\frac{1}{1+25x^2}.\n",
    "$$"
   ]
  },
  {
   "cell_type": "markdown",
   "id": "9a3e10ba",
   "metadata": {
    "editable": true
   },
   "source": [
    "Our first step will be to perform an OLS regression analysis of this\n",
    "function, trying out a polynomial fit with an $x$ dependence of the\n",
    "form $[x,x^2,\\dots]$.  You can use a uniform distribution to set up the\n",
    "arrays of values for $x \\in [-1,1]$, or alternatively use a fixed step size.\n",
    "Thereafter we will repeat many of the same steps when using the Ridge and Lasso regression methods,\n",
    "introducing thereby a dependence on the hyperparameter  (penalty) $\\lambda$.\n",
    "\n",
    "We will also include bootstrap as a resampling technique in order to\n",
    "study the so-called **bias-variance tradeoff**.  After that we will\n",
    "include the so-called cross-validation technique."
   ]
  },
  {
   "cell_type": "markdown",
   "id": "8aa547a5",
   "metadata": {
    "editable": true
   },
   "source": [
    "### Part a : Ordinary Least Square (OLS) for the Runge function\n",
    "\n",
    "We will generate our own dataset for abovementioned  function\n",
    "$\\mathrm{Runge}(x)$ function with $x\\in [-1,1]$. You should explore also the addition\n",
    "of an added stochastic noise to this function using the normal\n",
    "distribution $N(0,1)$.\n",
    "\n",
    "*Write your own code* (using for example the  pseudoinverse function **pinv** from  **Numpy** ) and perform a standard **ordinary least square regression**\n",
    "analysis using polynomials in $x$ up to  order $15$ or higher. Explore the dependence on the number of data points and the polynomial degree.\n",
    "\n",
    "Evaluate the mean Squared error (MSE)"
   ]
  },
  {
   "cell_type": "markdown",
   "id": "68fbf03d",
   "metadata": {
    "editable": true
   },
   "source": [
    "$$\n",
    "MSE(\\boldsymbol{y},\\tilde{\\boldsymbol{y}}) = \\frac{1}{n}\n",
    "\\sum_{i=0}^{n-1}(y_i-\\tilde{y}_i)^2,\n",
    "$$"
   ]
  },
  {
   "cell_type": "markdown",
   "id": "b49509bc",
   "metadata": {
    "editable": true
   },
   "source": [
    "and the $R^2$ score function.  If $\\tilde{\\boldsymbol{y}}_i$ is the predicted\n",
    "value of the $i-th$ sample and $y_i$ is the corresponding true value,\n",
    "then the score $R^2$ is defined as"
   ]
  },
  {
   "cell_type": "markdown",
   "id": "0fa4ffc6",
   "metadata": {
    "editable": true
   },
   "source": [
    "$$\n",
    "R^2(\\boldsymbol{y}, \\tilde{\\boldsymbol{y}}) = 1 - \\frac{\\sum_{i=0}^{n - 1} (y_i - \\tilde{y}_i)^2}{\\sum_{i=0}^{n - 1} (y_i - \\bar{y})^2},\n",
    "$$"
   ]
  },
  {
   "cell_type": "markdown",
   "id": "ce462b32",
   "metadata": {
    "editable": true
   },
   "source": [
    "where we have defined the mean value  of $\\boldsymbol{y}$ as"
   ]
  },
  {
   "cell_type": "markdown",
   "id": "a5fbef36",
   "metadata": {
    "editable": true
   },
   "source": [
    "$$\n",
    "\\bar{y} =  \\frac{1}{n} \\sum_{i=0}^{n - 1} y_i.\n",
    "$$"
   ]
  },
  {
   "cell_type": "markdown",
   "id": "a6afe9cb",
   "metadata": {
    "editable": true
   },
   "source": [
    "Plot the resulting scores (MSE and R$^2$) as functions of the polynomial degree (here up to polymial degree 15).\n",
    "Plot also the parameters $\\theta$ as you increase the order of the polynomial. Comment your results.\n",
    "\n",
    "Your code has to include a scaling/centering of the data (for example by\n",
    "subtracting the mean value), and\n",
    "a split of the data in training and test data. For the scaling  you can\n",
    "either write your own code or use for example the function for\n",
    "splitting training data provided by the library **Scikit-Learn** (make\n",
    "sure you have installed it).  This function is called\n",
    "$train\\_test\\_split$.  **You should present a critical discussion of why and how you have scaled or not scaled the data**.\n",
    "\n",
    "It is normal in essentially all Machine Learning studies to split the\n",
    "data in a training set and a test set (eventually  also an additional\n",
    "validation set).  There\n",
    "is no explicit recipe for how much data should be included as training\n",
    "data and say test data.  An accepted rule of thumb is to use\n",
    "approximately $2/3$ to $4/5$ of the data as training data.\n",
    "\n",
    "You can easily reuse the solutions to your exercises from week 35.\n",
    "See also the lecture slides from week 35 and week 36.\n",
    "\n",
    "On scaling, we recommend reading the following section from the scikit-learn software description, see <https://scikit-learn.org/stable/auto_examples/preprocessing/plot_all_scaling.html#plot-all-scaling-standard-scaler-section>."
   ]
  },
  {
   "cell_type": "code",
   "execution_count": null,
   "id": "cfb44f01",
   "metadata": {},
   "outputs": [],
   "source": [
    "import numpy as np\n",
    "from sklearn.preprocessing import PolynomialFeatures\n",
    "from sklearn.preprocessing import StandardScaler\n",
    "from sklearn.linear_model import Ridge\n",
    "from sklearn.model_selection import train_test_split\n",
    "from sklearn.metrics import mean_squared_error\n",
    "from sklearn.metrics import r2_score\n",
    "import matplotlib.pyplot as plt\n",
    "import warnings\n",
    "import math"
   ]
  },
  {
   "cell_type": "code",
   "execution_count": 14,
   "id": "62e882c8",
   "metadata": {},
   "outputs": [],
   "source": [
    "#Generate Data\n",
    "\n",
    "f = lambda x: 1/(1+25*x**2)\n",
    "#np.random.seed(123)\n",
    "n_samples = 10000000\n",
    "sigma = 0.1\n",
    "x_=np.random.uniform(-1,1,n_samples)\n",
    "noise = np.random.normal(loc=0, scale=sigma, size=n_samples)\n",
    "y_with_noise = f(x_) + noise\n",
    "y_without_noise = f(x_)"
   ]
  },
  {
   "cell_type": "code",
   "execution_count": null,
   "id": "986c77ad",
   "metadata": {},
   "outputs": [
    {
     "name": "stdout",
     "output_type": "stream",
     "text": [
      "0.8903760346374056\n"
     ]
    }
   ],
   "source": [
    "#r2 score of the perfect model \\tilde{y}(x)= 1/(1+25*x**2)\n",
    "#calculated with Monte Carlo simulations\n",
    "print(r2_score(y_with_noise, f(x_)))"
   ]
  },
  {
   "cell_type": "code",
   "execution_count": null,
   "id": "75a1b906",
   "metadata": {},
   "outputs": [
    {
     "name": "stdout",
     "output_type": "stream",
     "text": [
      "0.8902566076905438\n"
     ]
    }
   ],
   "source": [
    "#r2 score of the perfect model \\tilde{y}(x)= 1/(1+25*x**2)\n",
    "#calculated theoretically\n",
    "perf_var_y =1/52 + 1/10 * math.atan(5) - 1/25 * math.atan(5)**2\n",
    "perf_r_squared = 1- sigma**2/(perf_var_y + sigma**2)\n",
    "print(perf_r_squared)"
   ]
  },
  {
   "cell_type": "code",
   "execution_count": 99,
   "id": "a72b8c32",
   "metadata": {},
   "outputs": [
    {
     "name": "stdout",
     "output_type": "stream",
     "text": [
      "-0.22820045523360144\n",
      "0.9999092041876172\n",
      "0.000837135160358625\n"
     ]
    }
   ],
   "source": [
    "#descriptive statistics\n",
    "print(y_with_noise.min())\n",
    "print(y_without_noise.max())\n",
    "print(np.abs(y_with_noise).min())\n",
    "#highest abs value is 100 times larger than smallest\n",
    "#we need scaling"
   ]
  },
  {
   "cell_type": "code",
   "execution_count": 100,
   "id": "af2a7e4a",
   "metadata": {},
   "outputs": [],
   "source": [
    "def theta_OLS(X,y):\n",
    "     return np.linalg.pinv(np.transpose(X) @ X) @ np.dot(np.transpose(X), y)"
   ]
  },
  {
   "cell_type": "code",
   "execution_count": 101,
   "id": "8ee6a9c7",
   "metadata": {},
   "outputs": [
    {
     "name": "stdout",
     "output_type": "stream",
     "text": [
      "[ 1.         -0.00868986  0.32236593 -0.00463956  0.18675571 -0.00405293\n",
      "  0.12978949 -0.00400736  0.09874576 -0.0039713   0.07928095 -0.00386947\n",
      "  0.06597044 -0.00371348  0.05632316 -0.00352434]\n",
      "[0.         0.32229041 0.08283592 0.12976797 0.06386806 0.07926453\n",
      " 0.04912512 0.0563071  0.03928296 0.04333424 0.03252203 0.03508845\n",
      " 0.02768    0.02943527 0.02407764 0.02534519]\n"
     ]
    }
   ],
   "source": [
    "X_unscaled_15=PolynomialFeatures(15).fit_transform(x_.reshape(-1,1))\n",
    "print(X_unscaled_15.mean(axis=0))\n",
    "print(X_unscaled_15.var(axis=0))\n",
    "# => we need scaling or is it better without scaling because this"
   ]
  },
  {
   "cell_type": "code",
   "execution_count": 102,
   "id": "970b03ea",
   "metadata": {},
   "outputs": [],
   "source": [
    "\n",
    "mse_errors_ols=np.zeros(15)\n",
    "r_squared_ols=np.zeros(15)\n",
    "degrees = np.arange(1,16)\n",
    "for degree in degrees:\n",
    "    X = PolynomialFeatures(degree).fit_transform(x_.reshape(-1,1))\n",
    "    X_scaled = StandardScaler().fit_transform(X)\n",
    "    y_centered = y_with_noise - y_with_noise.mean()\n",
    "    X_train, X_test, y_train, y_test = train_test_split(X_scaled, y_centered, test_size = 0.3)\n",
    "    y_pred = X_test @theta_OLS(X_train, y_train)\n",
    "    mse_errors_ols[degree-1] = (mean_squared_error(y_test, y_pred))\n",
    "    r_squared_ols[degree-1] = (r2_score(y_test, y_pred))"
   ]
  },
  {
   "cell_type": "code",
   "execution_count": 103,
   "id": "40eb0e68",
   "metadata": {},
   "outputs": [
    {
     "data": {
      "image/png": "[encoded data removed]",
      "text/plain": [
       "<Figure size 640x480 with 1 Axes>"
      ]
     },
     "metadata": {},
     "output_type": "display_data"
    }
   ],
   "source": [
    "plt.plot(degrees, mse_errors_ols, label = \"MSE\")\n",
    "plt.plot(degrees, r_squared_ols, label =\"R^2\")\n",
    "plt.xlabel(\"degree\")\n",
    "plt.ylabel(\"metric\")\n",
    "plt.legend()\n",
    "plt.show()"
   ]
  },
  {
   "cell_type": "code",
   "execution_count": 104,
   "id": "8b278129",
   "metadata": {},
   "outputs": [],
   "source": [
    "def theta_ridge(X,y,lmbda):\n",
    "    return np.linalg.pinv(X.T @ X + lmbda * np.eye(X.shape[1])) @ X.T @ y"
   ]
  },
  {
   "cell_type": "markdown",
   "id": "3be10f68",
   "metadata": {
    "editable": true
   },
   "source": [
    "### Part b: Adding Ridge regression for  the Runge  function\n",
    "\n",
    "Write your own code for the Ridge method as done in the previous\n",
    "exercise. The lecture notes from week 35 and 36 contain more information. Furthermore, the  results from the exercise set from week 36 is something you can reuse here.\n",
    "\n",
    "Perform the same analysis as you did in the previous exercise but now for different values of $\\lambda$. Compare and\n",
    "analyze your results with those obtained in part a) with the OLS  method. Study the\n",
    "dependence on $\\lambda$."
   ]
  },
  {
   "cell_type": "code",
   "execution_count": 105,
   "id": "649aaae9",
   "metadata": {},
   "outputs": [],
   "source": [
    "degree = 5\n",
    "n_lambda = 100\n",
    "mse_errors_ridge=np.zeros(n_lambda)\n",
    "r_squared_ridge=np.zeros(n_lambda)\n",
    "lambdas = np.linspace(0,10,n_lambda)\n",
    "X = PolynomialFeatures(degree).fit_transform(x_.reshape(-1,1))\n",
    "X_scaled = StandardScaler().fit_transform(X)\n",
    "y_centered = y_with_noise - y_with_noise.mean()\n",
    "X_train, X_test, y_train, y_test = train_test_split(X_scaled, y_centered, test_size = 0.3)\n",
    "for i, lambda_ in enumerate(lambdas):\n",
    "    y_pred = X_test @theta_ridge(X_train, y_train, lambda_)\n",
    "    mse_errors_ridge[i] = (mean_squared_error(y_test, y_pred))\n",
    "    r_squared_ridge[i] = (r2_score(y_test, y_pred))\n"
   ]
  },
  {
   "cell_type": "code",
   "execution_count": 106,
   "id": "ff5f008d",
   "metadata": {},
   "outputs": [
    {
     "data": {
      "image/png": "[encoded data removed]",
      "text/plain": [
       "<Figure size 640x480 with 1 Axes>"
      ]
     },
     "metadata": {},
     "output_type": "display_data"
    }
   ],
   "source": [
    "plt.plot(lambdas, mse_errors_ridge, label = \"MSE\")\n",
    "plt.plot(lambdas, r_squared_ridge, label =\"R^2\")\n",
    "plt.xlabel(\"lambda\")\n",
    "plt.ylabel(\"metric\")\n",
    "plt.legend()\n",
    "plt.show()\n",
    "\n",
    "#gets worse for large lambda"
   ]
  },
  {
   "cell_type": "markdown",
   "id": "caa7909c",
   "metadata": {
    "editable": true
   },
   "source": [
    "### Part c: Writing your own gradient descent code\n",
    "\n",
    "Replace now the analytical expressions for the optimal parameters\n",
    "$\\boldsymbol{\\theta}$ with your own gradient descent code. In this exercise we\n",
    "focus only on the simplest gradient descent approach with a fixed\n",
    "learning rate (see the exercises from week 37 and the lecture notes\n",
    "from week 36).\n",
    "\n",
    "Study and compare your results from parts a) and b) with your gradient\n",
    "descent approch. Discuss in particular the role of the learning rate."
   ]
  },
  {
   "cell_type": "code",
   "execution_count": 107,
   "id": "dce6e56c",
   "metadata": {},
   "outputs": [],
   "source": [
    "def gradient_descent(X,y,max_iter, precision, regression_method, gd_method, stochastic,batch_size, lmbda, hparameters_for_gd_method,  initial_value= None):\n",
    "#regression_method={ols, ridge, lasso}\n",
    "#gd_method ={normal, momentum, adagrad, rmsprop, adam}\n",
    "#initial value:\n",
    "#stochastic: boolean whether to use stochastic gradient descent\n",
    "#batch_size: only used for stochstic gradient descent\n",
    "#lmbda: hyperparameter for ridge and lasso, for ols not needed\n",
    "#hparameters_for_gd_method: List, with e.g. initial point, learning rate and momentum for momentum\n",
    "    n_samples=X.shape[0]\n",
    "    n_features =X.shape[1]\n",
    "    X = X.astype(np.float64)\n",
    "    y = y.astype(np.float64)\n",
    "    \n",
    "    if stochastic:\n",
    "        if regression_method == 'ols':\n",
    "            def mini_batch_gradient(X_batch, y_batch, theta_batch):\n",
    "                return 2/n_samples* (X_batch.T @ X_batch @theta_batch - X_batch.T @ y_batch)\n",
    "        elif regression_method == 'ridge':\n",
    "            def mini_batch_gradient(X_batch, y_batch, theta_batch):\n",
    "                return (X_batch.T @ X_batch @theta_batch - X_batch.T @ y_batch) + lmbda*theta_batch\n",
    "        elif regression_method == 'lasso':\n",
    "            def mini_batch_gradient(X_batch, y_batch, theta_batch):\n",
    "                return 2/n_samples*(X_batch.T @ X_batch @theta_batch - X_batch.T @ y_batch) + lmbda*np.sign(theta_batch)\n",
    "        else:\n",
    "            def mini_batch_gradient(X_batch, y_batch, theta_batch):\n",
    "                return -1\n",
    "            raise ValueError(\"invalid input for regression_method\")\n",
    "        \n",
    "        def gradient(theta):\n",
    "            shuffled_indices = np.random.choice(range(n_samples), n_samples, replace = False)\n",
    "            X_shuffled = X[shuffled_indices]\n",
    "            y_shuffled = y[shuffled_indices]\n",
    "            m = int(n_samples/batch_size) # number of batches\n",
    "            array_batch_gradients = np.zeros((m, n_features))\n",
    "            for i in range(m):\n",
    "                xi = X_shuffled[i*batch_size:(i+1)*batch_size]\n",
    "                yi = y_shuffled[i*batch_size: (i+1)*batch_size] #exclude the last samples?\n",
    "                batch_gradient_i = mini_batch_gradient(xi,yi, theta)\n",
    "                array_batch_gradients[i] = batch_gradient_i\n",
    "            return np.mean(array_batch_gradients, axis = 0)\n",
    "\n",
    "    else:\n",
    "        xtx = X.T @ X\n",
    "        xty = X.T @ y\n",
    "        if regression_method == 'ols':\n",
    "            def gradient(theta):\n",
    "                return 2/n_samples* (xtx @ theta - xty)\n",
    "        elif regression_method == 'ridge':\n",
    "            def gradient(theta):\n",
    "                return 2/n_samples*(xtx @ theta - xty + lmbda *theta)\n",
    "        elif regression_method == 'lasso':\n",
    "            def gradient(theta):\n",
    "                return 2/n_samples* (xtx @ theta - xty + lmbda *np.sign(theta))\n",
    "        else:\n",
    "            def gradient(theta):\n",
    "                return -1\n",
    "            raise ValueError(\"invalid input for regression_method\")    \n",
    "\n",
    "    \n",
    "    if gd_method == 'normal':\n",
    "        if initial_value is None:\n",
    "            initial_value = np.min(X, axis =0) + np.random.uniform(size =n_features) * (np.max(X, axis =0) - np.min(X, axis =0))\n",
    "        theta_new = initial_value \n",
    "        theta_old = initial_value + np.ones(n_features)\n",
    "        count = 0\n",
    "        learning_rate = hparameters_for_gd_method[0]\n",
    "        while (np.linalg.norm(theta_old - theta_new, ord = None) > precision) and count < max_iter: #which norm? np.inf for inf norm\n",
    "            theta_old = theta_new\n",
    "            theta_new = theta_old - learning_rate * gradient(theta_old)\n",
    "            count += 1\n",
    "            #print('theta' +str(theta_new))\n",
    "        if(count == max_iter):\n",
    "            print('calculation limit exceeded')\n",
    "        #print(theta_new)\n",
    "        #print(theta_old)\n",
    "        #print(count)\n",
    "        return [theta_new, count]\n",
    "\n",
    "    elif gd_method == 'momentum':\n",
    "        momentum = hparameters_for_gd_method[1]\n",
    "        change = 0\n",
    "        learning_rate = hparameters_for_gd_method[0]\n",
    "        if initial_value is None:\n",
    "            initial_value = np.min(X, axis =0) + np.random.uniform(size =n_features) * (np.max(X, axis =0) - np.min(X, axis =0))\n",
    "        theta_new = initial_value \n",
    "        theta_old = initial_value + np.ones(n_features)\n",
    "        count = 0\n",
    "        while (np.linalg.norm(theta_old - theta_new, ord = None) > precision) and count < max_iter: #which norm? np.inf for inf norm\n",
    "            theta_old = theta_new\n",
    "            change = learning_rate * gradient(theta_old) + momentum * change\n",
    "            theta_new = theta_old - change \n",
    "            count += 1\n",
    "        if(count == max_iter):\n",
    "            print('calculation limit exceeded')\n",
    "        return [theta_new, count]\n",
    "    \n",
    "    elif gd_method == 'adagrad':\n",
    "        learning_rate = hparameters_for_gd_method[0]\n",
    "        epsilon = hparameters_for_gd_method[1]\n",
    "        if initial_value is None:\n",
    "            initial_value = np.min(X, axis =0) + np.random.uniform(size =n_features) * (np.max(X, axis =0) - np.min(X, axis =0))\n",
    "        theta_new = initial_value \n",
    "        theta_old = initial_value + np.ones(n_features)\n",
    "        G = np.zeros(n_features)\n",
    "        gradient1 = np.zeros(n_features)\n",
    "        count = 0\n",
    "        while (np.linalg.norm(theta_old - theta_new, ord = None) > precision) and count < max_iter: #which norm? np.inf for inf norm\n",
    "            theta_old = theta_new\n",
    "            gradient1 = gradient(theta_old)\n",
    "            G = G + np.square(gradient1)\n",
    "            theta_new = theta_old - learning_rate * gradient1 / np.sqrt(epsilon + G)\n",
    "            #print(np.sqrt(epsilon + r))\n",
    "            count += 1\n",
    "            if(count == max_iter):\n",
    "                print('calculation limit exceeded')\n",
    "        #print(theta_new)\n",
    "        #print(theta_old)\n",
    "        return [theta_new, count]\n",
    "\n",
    "    elif gd_method == 'rmsprop':\n",
    "        learning_rate = hparameters_for_gd_method[0]\n",
    "        rho = hparameters_for_gd_method[1]\n",
    "        epsilon = hparameters_for_gd_method[2]\n",
    "        if initial_value is None:\n",
    "            initial_value = np.min(X, axis =0) + np.random.uniform(size =n_features) * (np.max(X, axis =0) - np.min(X, axis =0))\n",
    "        theta_new = initial_value \n",
    "        theta_old = initial_value + np.ones(n_features)\n",
    "        v = np.zeros(n_features)\n",
    "        gradient1 = np.zeros(n_features)\n",
    "        count = 0\n",
    "        while (np.linalg.norm(theta_old - theta_new, ord = None) > precision) and count < max_iter: #which norm? np.inf for inf norm\n",
    "            theta_old = theta_new\n",
    "            gradient1 = gradient(theta_old)\n",
    "            v= rho * v + (1-rho) * gradient1**2\n",
    "            theta_new = theta_old - learning_rate / np.sqrt(v + epsilon) * gradient1\n",
    "            count += 1\n",
    "        if ( count == max_iter):\n",
    "            print('calculation limit exceeded')\n",
    "        print(theta_new)\n",
    "        print(theta_old)\n",
    "        print(v)\n",
    "        return [theta_new, count]\n",
    "\n",
    "    elif gd_method == 'adam':\n",
    "        learning_rate = hparameters_for_gd_method[0]\n",
    "        beta_1 = hparameters_for_gd_method[1]\n",
    "        beta_2 = hparameters_for_gd_method[2]\n",
    "        epsilon = hparameters_for_gd_method[3]\n",
    "        m=0\n",
    "        v=0\n",
    "        if initial_value is None:\n",
    "            initial_value = np.min(X, axis =0) + np.random.uniform(size =n_features) * (np.max(X, axis =0) - np.min(X, axis =0))\n",
    "        theta_new = initial_value \n",
    "        theta_old = initial_value + np.ones(n_features)\n",
    "        count = 0\n",
    "        while (np.linalg.norm(theta_old - theta_new, ord = None) > precision) and count < max_iter: #which norm? np.inf for inf norm\n",
    "            count+=1\n",
    "            theta_old = theta_new\n",
    "            gradient1 = gradient(theta_old)\n",
    "            m = beta_1 * m + (1-beta_1)*gradient1\n",
    "            v = beta_2 * v + (1-beta_2)*gradient1**2\n",
    "            m_tilde = m/(1-beta_1**count)\n",
    "            v_tilde = v/(1-beta_2**count)\n",
    "            theta_new = theta_old - learning_rate * m_tilde / (np.sqrt(v_tilde) + epsilon)\n",
    "        if ( count == max_iter):\n",
    "            print('calculation limit exceeded')\n",
    "        print(theta_old)\n",
    "        print(theta_new)\n",
    "        return [theta_new, count]\n",
    "\n",
    "    else: \n",
    "        raise ValueError('invalid input for gd_method')\n"
   ]
  },
  {
   "cell_type": "code",
   "execution_count": 108,
   "id": "08944e14",
   "metadata": {},
   "outputs": [],
   "source": [
    "#talk about exact definitions\n",
    "def gradient_ols(xtx_ols, xty_ols, theta_ols, n_samples_ols):\n",
    "    return 2/n_samples_ols* (xtx_ols @theta_ols - xty_ols)\n",
    "\n",
    "def maker_gradient_ridge(lmbda):\n",
    "    def gradient_ridge(xtx_ridge, xty_ridge, theta_ridge, n_samples_ridge):\n",
    "        return (xtx_ridge @theta_ridge - xty_ridge) + lmbda*theta_ridge\n",
    "    return gradient_ridge\n",
    "\n",
    "def maker_gradient_lasso(lmbda):\n",
    "    def gradient_lasso(xtx_lasso, xty_lasso, theta_lasso, n_samples_lasso):\n",
    "        return 2/n_samples_lasso*(xtx_lasso @theta_lasso - xty_lasso) + lmbda*np.sign(theta_lasso)\n",
    "    return gradient_lasso"
   ]
  },
  {
   "cell_type": "code",
   "execution_count": 109,
   "id": "80762029",
   "metadata": {},
   "outputs": [],
   "source": [
    "def gradient_eff_calculator(X_gc, y_gc, gradient_gc, stochastic_gc, batch_size_gc):\n",
    "    n_samples_gc = X_gc.shape[0]\n",
    "    n_features_gc = X_gc.shape[1]\n",
    "    if stochastic_gc:\n",
    "        def gradient_eff(theta):\n",
    "            shuffled_indices = np.random.choice(range(n_samples_gc), n_samples_gc, replace = False)\n",
    "            X_shuffled = X_gc[shuffled_indices]\n",
    "            y_shuffled = y_gc[shuffled_indices]\n",
    "            m = int(n_samples_gc/batch_size_gc) # number of batches\n",
    "            array_batch_gradients = np.zeros((m, n_features_gc))\n",
    "            for i in range(m):\n",
    "                xi = X_shuffled[i*batch_size_gc:(i+1)*batch_size_gc]\n",
    "                yi = y_shuffled[i*batch_size_gc: (i+1)*batch_size_gc] #exclude the last samples?\n",
    "                batch_gradient_i = gradient_gc(xi.T @ xi, xi.T @ yi, theta, n_samples_gc)\n",
    "                array_batch_gradients[i] = batch_gradient_i\n",
    "            return np.mean(array_batch_gradients, axis = 0)\n",
    "    else:\n",
    "        xtx = X_gc.T @ X_gc\n",
    "        xty = X_gc.T @ y_gc\n",
    "        def gradient_eff(theta):\n",
    "            return gradient_gc(xtx, xty, theta, n_samples_gc)    \n",
    "    return gradient_eff\n",
    "\n"
   ]
  },
  {
   "cell_type": "code",
   "execution_count": 117,
   "id": "e8c2b08c",
   "metadata": {},
   "outputs": [],
   "source": [
    "def initial_value_generator(X):\n",
    "    n_features = X.shape[1]\n",
    "    return np.min(X, axis =0) + np.random.uniform(size =n_features) * (np.max(X, axis =0) - np.min(X, axis =0))"
   ]
  },
  {
   "cell_type": "code",
   "execution_count": 118,
   "id": "25241da1",
   "metadata": {},
   "outputs": [],
   "source": [
    "def gradient_descent_normal(X, y, gradient, learning_rate, max_iter, precision, stochastic, batch_size, initial_value = None):\n",
    "    X = X.astype(np.float64)\n",
    "    y = y.astype(np.float64)\n",
    "\n",
    "    gradient_eff = gradient_eff_calculator(X, y, gradient, stochastic, batch_size)\n",
    "\n",
    "    if initial_value is None:\n",
    "        initial_value = initial_value_generator(X)\n",
    "    \n",
    "    theta_new = initial_value \n",
    "    theta_old = initial_value + 1\n",
    "    count = 0\n",
    "    while (np.linalg.norm(theta_old - theta_new, ord = None) > precision) and count < max_iter: #which norm? np.inf for inf norm\n",
    "        theta_old = theta_new\n",
    "        theta_new = theta_old - learning_rate * gradient_eff(theta_old)\n",
    "        count += 1\n",
    "    if(count == max_iter):\n",
    "        print('calculation limit exceeded')\n",
    "    return [theta_new, count]"
   ]
  },
  {
   "cell_type": "code",
   "execution_count": 112,
   "id": "70f97b99",
   "metadata": {},
   "outputs": [],
   "source": [
    "lambda1= 0.1"
   ]
  },
  {
   "cell_type": "code",
   "execution_count": 113,
   "id": "c78ba8c9",
   "metadata": {},
   "outputs": [
    {
     "data": {
      "text/plain": [
       "array([[ 0.00000000e+00, -1.71008284e+00,  2.21353624e+00,\n",
       "        -2.59597010e+00,  2.90353998e+00, -3.18829639e+00],\n",
       "       [ 0.00000000e+00,  9.43996335e-01, -1.54274396e-01,\n",
       "         4.19695983e-01, -4.33251165e-01,  1.59083208e-01],\n",
       "       [ 0.00000000e+00, -5.47558014e-01, -7.65286421e-01,\n",
       "        -7.76939509e-02, -6.97724500e-01,  2.56243943e-03],\n",
       "       ...,\n",
       "       [ 0.00000000e+00,  4.19812295e-01, -9.36830349e-01,\n",
       "         4.64963988e-02, -7.27974875e-01,  1.66638832e-02],\n",
       "       [ 0.00000000e+00,  4.79710986e-01, -8.78548969e-01,\n",
       "         6.37508933e-02, -7.19861108e-01,  1.89199622e-02],\n",
       "       [ 0.00000000e+00,  4.96393059e-01, -8.60886759e-01,\n",
       "         6.94323230e-02, -7.16962569e-01,  1.97930891e-02]])"
      ]
     },
     "execution_count": 113,
     "metadata": {},
     "output_type": "execute_result"
    }
   ],
   "source": [
    "X_train"
   ]
  },
  {
   "cell_type": "code",
   "execution_count": 114,
   "id": "a962215d",
   "metadata": {},
   "outputs": [],
   "source": [
    "theta_ols_stochastic_normal = gradient_descent(X_train, y_train, max_iter = 100000, precision = 0.0000001, regression_method ='ols', gd_method= 'normal', stochastic=False, batch_size =100, lmbda = lambda1, hparameters_for_gd_method =[0.005, 0.9, 0.99, 1e-7 ], initial_value=np.zeros(X_train.shape[1]))"
   ]
  },
  {
   "cell_type": "code",
   "execution_count": 115,
   "id": "c413a63e",
   "metadata": {},
   "outputs": [
    {
     "name": "stdout",
     "output_type": "stream",
     "text": [
      "[array([ 0.        , -0.02099737, -0.67984029,  0.05108755,  0.49732291,\n",
      "       -0.0346515 ]), 73765]\n"
     ]
    }
   ],
   "source": [
    "print(theta_ols_stochastic_normal)"
   ]
  },
  {
   "cell_type": "code",
   "execution_count": 119,
   "id": "eab0a423",
   "metadata": {},
   "outputs": [
    {
     "data": {
      "text/plain": [
       "[array([ 0.        ,  0.0063793 , -0.67841859, -0.02585141,  0.49595886,\n",
       "         0.01862707]),\n",
       " 82297]"
      ]
     },
     "execution_count": 119,
     "metadata": {},
     "output_type": "execute_result"
    }
   ],
   "source": [
    "gradient_descent_normal(X_train, y_train, gradient_ols, learning_rate= 0.001, max_iter= 100000, precision=0.000001, stochastic=False, batch_size=100)"
   ]
  },
  {
   "cell_type": "code",
   "execution_count": null,
   "id": "375db1f3",
   "metadata": {},
   "outputs": [],
   "source": [
    "def ols_analytic(X_ols, y_ols):\n",
    "    return np.linalg.pinv(X_ols.T @ X_ols) @ np.dot(X_ols.T, y_ols)\n",
    "\n",
    "def ridge_analytic(X_ridge, y_ridge, lambda_ridge):\n",
    "    return np.linalg.pinv(X_ridge.T @ X_ridge + lambda_ridge * np.eye(X_ridge.shape[1])) @ np.dot(X_ridge.T, y_ridge)"
   ]
  },
  {
   "cell_type": "code",
   "execution_count": null,
   "id": "b8c5dd83",
   "metadata": {},
   "outputs": [
    {
     "name": "stdout",
     "output_type": "stream",
     "text": [
      "[ 0.00000000e+00 -1.58126085e-02 -6.79874056e-01 -1.67098414e-04\n",
      "  4.94100160e-01  1.68593364e-02]\n",
      "[ 0.00000000e+00 -1.58742569e-02 -6.77893411e-01  1.39828935e-04\n",
      "  4.92123279e-01  1.65850181e-02]\n"
     ]
    }
   ],
   "source": [
    "print(ols_analytic(X_train, y_train))\n",
    "print(ridge_analytic(X_train, y_train, lambda1))"
   ]
  },
  {
   "cell_type": "code",
   "execution_count": null,
   "id": "2e26e5ba",
   "metadata": {},
   "outputs": [
    {
     "data": {
      "text/plain": [
       "array([ 0.        , -0.01607763, -0.67790089,  0.00071222,  0.49210454,\n",
       "        0.01617878])"
      ]
     },
     "execution_count": 86,
     "metadata": {},
     "output_type": "execute_result"
    }
   ],
   "source": [
    "Ridge(alpha =0.1, solver = 'sag').fit(X_train, y_train).coef_"
   ]
  },
  {
   "cell_type": "code",
   "execution_count": null,
   "id": "385783c4",
   "metadata": {},
   "outputs": [],
   "source": [
    "warnings.filterwarnings(\"error\", category=RuntimeWarning)\n",
    "def tuning(function, parameters):\n",
    "    #function based on parameters\n",
    "    #parameters list\n",
    "    results = np.zeros(len(parameters))\n",
    "    for i, parameter in enumerate(parameters):\n",
    "        try:\n",
    "            results[i] = function(parameter)[1]\n",
    "            print(f\"parameter {parameter} results in {results[i]} iterations and result {function(parameter)[0]}\")\n",
    "        except RuntimeWarning:\n",
    "            results[i] = np.inf\n",
    "            print(f\"parameter {parameter} results in error\")\n",
    "    print(\"overview:\")\n",
    "    print(f\"parameters: {parameters}\")\n",
    "    print(f\"results: {results}\")\n",
    "    print(\"best parameter is \"+ str(parameters[np.argmin(results)]) + \"with result\" + str(np.min(results)))\n",
    "    return results\n"
   ]
  },
  {
   "cell_type": "code",
   "execution_count": null,
   "id": "cb48e76d",
   "metadata": {},
   "outputs": [
    {
     "name": "stdout",
     "output_type": "stream",
     "text": [
      "calculation limit exceeded\n",
      "calculation limit exceeded\n",
      "parameter 1e-06 results in 50000.0 iterations and result [ 0.00000000e+00  9.93030105e-06 -1.93343357e-02  4.03306625e-04\n",
      " -1.43179021e-02  5.62200755e-04]\n",
      "calculation limit exceeded\n",
      "calculation limit exceeded\n",
      "parameter 1e-05 results in 50000.0 iterations and result [ 0.00000000e+00 -2.05830705e-03 -1.05388220e-01  6.78526283e-06\n",
      " -5.64609677e-02  7.31055081e-04]\n",
      "calculation limit exceeded\n",
      "calculation limit exceeded\n",
      "parameter 0.0001 results in 50000.0 iterations and result [ 0.         -0.00713185 -0.29560348  0.00229891  0.10801392  0.00222567]\n",
      "calculation limit exceeded\n",
      "calculation limit exceeded\n",
      "parameter 0.001 results in 50000.0 iterations and result [ 0.         -0.01579004 -0.66792759  0.00283753  0.4820684   0.01357441]\n",
      "calculation limit exceeded\n",
      "calculation limit exceeded\n",
      "parameter 0.01 results in 50000.0 iterations and result [ 0.00000000e+00 -1.50308700e-02 -6.76438945e-01  3.02478563e-06\n",
      "  4.90629257e-01  1.58777204e-02]\n",
      "calculation limit exceeded\n",
      "calculation limit exceeded\n",
      "parameter 0.1 results in 50000.0 iterations and result [ 0.00000000e+00 -1.50333320e-02 -6.76438880e-01 -1.18891482e-05\n",
      "  4.90629039e-01  1.58705249e-02]\n",
      "parameter 1 results in error\n",
      "parameter 10 results in error\n",
      "overview:\n",
      "parameters: [1e-06, 1e-05, 0.0001, 0.001, 0.01, 0.1, 1, 10]\n",
      "results: [50000. 50000. 50000. 50000. 50000. 50000.    inf    inf]\n",
      "best parameter is 1e-06with result50000.0\n",
      "[50000. 50000. 50000. 50000. 50000. 50000.    inf    inf]\n"
     ]
    }
   ],
   "source": [
    "function = lambda param: gradient_descent(X_train, y_train, max_iter = 50000, precision = 0.0000001, regression_method ='lasso', gd_method= 'normal', stochastic=False, batch_size =100, lmbda = 0.1, hparameters_for_gd_method =[param, 0.9, 0.99, 1e-7 ], initial_value=np.zeros(X_train.shape[1]))\n",
    "parameters =[10**(i) for i in range(-6, 2)]\n",
    "results = tuning(function, parameters)\n",
    "print(results)"
   ]
  },
  {
   "cell_type": "code",
   "execution_count": null,
   "id": "a99433a0",
   "metadata": {},
   "outputs": [],
   "source": [
    "def tuning2(function, parameters, objective):\n",
    "    results = np.zeros(len(parameters))\n",
    "    for i, parameter in enumerate(parameters):\n",
    "        try:\n",
    "            results[i] = objective(function(parameter)[0])\n",
    "            print(f\"parameter {parameter} results in result {function(parameter)[0]} and the objective has value {objective(function(parameter)[0])}\")\n",
    "        except RuntimeWarning:\n",
    "            results[i] = np.inf\n",
    "            print(f\"parameter {parameter} results in error\")\n",
    "    print(\"overview:\")\n",
    "    print(f\"parameters: {parameters}\")\n",
    "    print(f\"results: {results}\")\n",
    "    print(\"best parameter is \"+ str(parameters[np.argmin(results)]) + \"with result\" + str(np.min(results)))\n",
    "    return results"
   ]
  },
  {
   "cell_type": "code",
   "execution_count": null,
   "id": "25db4087",
   "metadata": {},
   "outputs": [
    {
     "name": "stdout",
     "output_type": "stream",
     "text": [
      "calculation limit exceeded\n",
      "calculation limit exceeded\n",
      "calculation limit exceeded\n",
      "parameter 1e-06 results in result [ 0.00000000e+00  4.15623214e-06 -8.39409743e-04  2.12415491e-05\n",
      " -6.38138626e-04  2.81968664e-05] and the objective has value 0.09263437857470888\n",
      "calculation limit exceeded\n",
      "calculation limit exceeded\n",
      "calculation limit exceeded\n",
      "parameter 1e-05 results in result [ 0.00000000e+00  2.62233189e-05 -8.13683270e-03  1.91771094e-04\n",
      " -6.12644779e-03  2.59008959e-04] and the objective has value 0.08799228848774253\n",
      "calculation limit exceeded\n",
      "calculation limit exceeded\n",
      "calculation limit exceeded\n",
      "parameter 0.0001 results in result [ 0.         -0.00054906 -0.06123499  0.00063056 -0.04134821  0.00111358] and the objective has value 0.06450140260788845\n",
      "calculation limit exceeded\n",
      "calculation limit exceeded\n",
      "calculation limit exceeded\n",
      "parameter 0.001 results in result [ 0.         -0.00451366 -0.18545863  0.00046522 -0.00240545  0.00055909] and the objective has value 0.04985246343912377\n",
      "calculation limit exceeded\n",
      "calculation limit exceeded\n",
      "calculation limit exceeded\n",
      "parameter 0.01 results in result [ 0.         -0.01445977 -0.56939618  0.00565034  0.38306995  0.00845668] and the objective has value 0.030114161486644225\n",
      "calculation limit exceeded\n",
      "calculation limit exceeded\n",
      "calculation limit exceeded\n",
      "parameter 0.1 results in result [ 0.00000000e+00 -1.50364765e-02 -6.76438638e-01  9.44500328e-06\n",
      "  4.90629256e-01  1.58682832e-02] and the objective has value 0.02907738961375456\n",
      "parameter 1 results in error\n",
      "parameter 10 results in error\n",
      "overview:\n",
      "parameters: [1e-06, 1e-05, 0.0001, 0.001, 0.01, 0.1, 1, 10]\n",
      "results: [0.09263438 0.08799229 0.0645014  0.04985246 0.03011416 0.02907739\n",
      "        inf        inf]\n",
      "best parameter is 0.1with result0.02907738961375456\n",
      "[0.09263438 0.08799229 0.0645014  0.04985246 0.03011416 0.02907739\n",
      "        inf        inf]\n"
     ]
    }
   ],
   "source": [
    "function = lambda param: gradient_descent(X_train, y_train, max_iter = 2000, precision = 0.0000001, regression_method ='lasso', gd_method= 'normal', stochastic=False, batch_size =100, lmbda = 0.1, hparameters_for_gd_method =[param, 0.9, 0.99, 1e-7 ], initial_value=np.zeros(X_train.shape[1]))\n",
    "def objective(beta):\n",
    "    return mean_squared_error(X_train @beta, y_train)\n",
    "parameters =[10**(i) for i in range(-6, 2)]\n",
    "results = tuning2(function, parameters, objective)\n",
    "print(results)"
   ]
  },
  {
   "cell_type": "code",
   "execution_count": null,
   "id": "01917d0a",
   "metadata": {},
   "outputs": [
    {
     "name": "stdout",
     "output_type": "stream",
     "text": [
      "[   0.            3.53879881   29.61192458  133.0966172  1369.53660392\n",
      " 1935.10696528]\n",
      "<class 'numpy.ndarray'>\n",
      "offiziel höchster Wert0.00103353459828726\n"
     ]
    }
   ],
   "source": [
    "eigenvalues =np.linalg.eigvalsh(X_train.T @ X_train)\n",
    "print(eigenvalues)\n",
    "print(type(eigenvalues))\n",
    "print(f\"offiziel höchster Wert{2/np.max(eigenvalues)}\")\n"
   ]
  },
  {
   "cell_type": "markdown",
   "id": "3aac4df1",
   "metadata": {
    "editable": true
   },
   "source": [
    "\n",
    "### Part d: Including momentum and more advanced ways to update the learning the rate\n",
    "\n",
    "We keep our focus on OLS and Ridge regression and update our code for\n",
    "the gradient descent method by including **momentum**, **ADAgrad**,\n",
    "**RMSprop** and **ADAM** as methods fro iteratively updating your learning\n",
    "rate. Discuss the results and compare the different methods applied to\n",
    "the one-dimensional Runge function. The lecture notes from week 37 contain several examples on how to implement these methods."
   ]
  },
  {
   "cell_type": "markdown",
   "id": "d0862a53",
   "metadata": {
    "editable": true
   },
   "source": [
    "### Part e: Writing our own code for Lasso regression\n",
    "\n",
    "LASSO regression (see lecture slides from week 36 and week 37)\n",
    "represents our first encounter with a machine learning method which\n",
    "cannot be solved through analytical expressions (as in OLS and Ridge regression). Use the gradient\n",
    "descent methods you developed in parts c) and d) to solve the LASSO\n",
    "optimization problem. You can compare your results with \n",
    "the functionalities of **Scikit-Learn**.\n",
    "\n",
    "Discuss (critically) your results for the Runge function from OLS,\n",
    "Ridge and LASSO regression using the various gradient descent\n",
    "approaches."
   ]
  },
  {
   "cell_type": "markdown",
   "id": "9170032e",
   "metadata": {
    "editable": true
   },
   "source": [
    "### Part f: Stochastic gradient descent\n",
    "\n",
    "Our last gradient step is to include stochastic gradient descent using\n",
    "the same methods to update the learning rates as in parts c-e).\n",
    "Compare and discuss your results with and without stochastic gradient\n",
    "and give a critical assessment of the various methods."
   ]
  },
  {
   "cell_type": "markdown",
   "id": "bacd1035",
   "metadata": {
    "editable": true
   },
   "source": [
    "### Part g: Bias-variance trade-off and resampling techniques\n",
    "\n",
    "Our aim here is to study the bias-variance trade-off by implementing\n",
    "the **bootstrap** resampling technique.  **We will only use the simpler\n",
    "ordinary least squares here**.\n",
    "\n",
    "With a code which does OLS and includes resampling techniques, \n",
    "we will now discuss the bias-variance trade-off in the context of\n",
    "continuous predictions such as regression. However, many of the\n",
    "intuitions and ideas discussed here also carry over to classification\n",
    "tasks and basically all Machine Learning algorithms. \n",
    "\n",
    "Before you perform an analysis of the bias-variance trade-off on your\n",
    "test data, make first a figure similar to Fig. 2.11 of Hastie,\n",
    "Tibshirani, and Friedman. Figure 2.11 of this reference displays only\n",
    "the test and training MSEs. The test MSE can be used to indicate\n",
    "possible regions of low/high bias and variance. You will most likely\n",
    "not get an equally smooth curve! You may also need to increase the\n",
    "polynomial order and play around with the number of data points as\n",
    "well (see also the exercise set from week 35).\n",
    "\n",
    "With this result we move on to the bias-variance trade-off analysis.\n",
    "\n",
    "Consider a\n",
    "dataset $\\mathcal{L}$ consisting of the data\n",
    "$\\mathbf{X}_\\mathcal{L}=\\{(y_j, \\boldsymbol{x}_j), j=0\\ldots n-1\\}$.\n",
    "\n",
    "We assume that the true data is generated from a noisy model"
   ]
  },
  {
   "cell_type": "markdown",
   "id": "b871ec69",
   "metadata": {
    "editable": true
   },
   "source": [
    "$$\n",
    "\\boldsymbol{y}=f(\\boldsymbol{x}) + \\boldsymbol{\\epsilon}.\n",
    "$$"
   ]
  },
  {
   "cell_type": "markdown",
   "id": "b47c19bc",
   "metadata": {
    "editable": true
   },
   "source": [
    "Here $\\epsilon$ is normally distributed with mean zero and standard\n",
    "deviation $\\sigma^2$.\n",
    "\n",
    "In our derivation of the ordinary least squares method we defined then\n",
    "an approximation to the function $f$ in terms of the parameters\n",
    "$\\boldsymbol{\\theta}$ and the design matrix $\\boldsymbol{X}$ which embody our model,\n",
    "that is $\\boldsymbol{\\tilde{y}}=\\boldsymbol{X}\\boldsymbol{\\theta}$.\n",
    "\n",
    "The parameters $\\boldsymbol{\\theta}$ are in turn found by optimizing the mean\n",
    "squared error via the so-called cost function"
   ]
  },
  {
   "cell_type": "markdown",
   "id": "6db622c2",
   "metadata": {
    "editable": true
   },
   "source": [
    "$$\n",
    "C(\\boldsymbol{X},\\boldsymbol{\\theta}) =\\frac{1}{n}\\sum_{i=0}^{n-1}(y_i-\\tilde{y}_i)^2=\\mathbb{E}\\left[(\\boldsymbol{y}-\\boldsymbol{\\tilde{y}})^2\\right].\n",
    "$$"
   ]
  },
  {
   "cell_type": "markdown",
   "id": "5a7eb70d",
   "metadata": {
    "editable": true
   },
   "source": [
    "Here the expected value $\\mathbb{E}$ is the sample value. \n",
    "\n",
    "Show that you can rewrite this in terms of a term which contains the\n",
    "variance of the model itself (the so-called variance term), a term\n",
    "which measures the deviation from the true data and the mean value of\n",
    "the model (the bias term) and finally the variance of the noise.\n",
    "\n",
    "That is, show that"
   ]
  },
  {
   "cell_type": "markdown",
   "id": "d50292fe",
   "metadata": {
    "editable": true
   },
   "source": [
    "$$\n",
    "\\mathbb{E}\\left[(\\boldsymbol{y}-\\boldsymbol{\\tilde{y}})^2\\right]=\\mathrm{Bias}[\\tilde{y}]+\\mathrm{var}[\\tilde{y}]+\\sigma^2,\n",
    "$$"
   ]
  },
  {
   "cell_type": "markdown",
   "id": "50fa641f",
   "metadata": {
    "editable": true
   },
   "source": [
    "with (we approximate $f(\\boldsymbol{x})\\approx \\boldsymbol{y}$)"
   ]
  },
  {
   "cell_type": "markdown",
   "id": "2bd429c9",
   "metadata": {
    "editable": true
   },
   "source": [
    "$$\n",
    "\\mathrm{Bias}[\\tilde{y}]=\\mathbb{E}\\left[\\left(\\boldsymbol{y}-\\mathbb{E}\\left[\\boldsymbol{\\tilde{y}}\\right]\\right)^2\\right],\n",
    "$$"
   ]
  },
  {
   "cell_type": "markdown",
   "id": "737c2819",
   "metadata": {
    "editable": true
   },
   "source": [
    "and"
   ]
  },
  {
   "cell_type": "markdown",
   "id": "41ef92ef",
   "metadata": {
    "editable": true
   },
   "source": [
    "$$\n",
    "\\mathrm{var}[\\tilde{y}]=\\mathbb{E}\\left[\\left(\\tilde{\\boldsymbol{y}}-\\mathbb{E}\\left[\\boldsymbol{\\tilde{y}}\\right]\\right)^2\\right]=\\frac{1}{n}\\sum_i(\\tilde{y}_i-\\mathbb{E}\\left[\\boldsymbol{\\tilde{y}}\\right])^2.\n",
    "$$"
   ]
  },
  {
   "cell_type": "markdown",
   "id": "b948dab0",
   "metadata": {
    "editable": true
   },
   "source": [
    "**Important note**: Since the function $f(x)$ is unknown, in order to be able to evalute the bias, we replace $f(\\boldsymbol{x})$ in the expression for the bias with $\\boldsymbol{y}$. \n",
    "\n",
    "The answer to this exercise should be included in the theory part of\n",
    "the report.  This exercise is also part of the weekly exercises of\n",
    "week 38.  Explain what the terms mean and discuss their\n",
    "interpretations.\n",
    "\n",
    "Perform then a bias-variance analysis of the Runge function by\n",
    "studying the MSE value as function of the complexity of your model.\n",
    "\n",
    "Discuss the bias and variance trade-off as function\n",
    "of your model complexity (the degree of the polynomial) and the number\n",
    "of data points, and possibly also your training and test data using the **bootstrap** resampling method.\n",
    "You can follow the code example in the jupyter-book at <https://compphysics.github.io/MachineLearning/doc/LectureNotes/_build/html/chapter3.html#the-bias-variance-tradeoff>."
   ]
  },
  {
   "cell_type": "code",
   "execution_count": null,
   "id": "c31fba14",
   "metadata": {},
   "outputs": [
    {
     "name": "stdout",
     "output_type": "stream",
     "text": [
      "Polynomial degree: 0\n",
      "Error: 0.07652685281448748\n",
      "Bias^2: 0.07606007435295238\n",
      "Var: 0.0004667784615351138\n",
      "0.07652685281448748 >= 0.07606007435295238 + 0.0004667784615351138 = 0.0765268528144875\n",
      "Polynomial degree: 1\n",
      "Error: 0.07663314749813556\n",
      "Bias^2: 0.07590872686021137\n",
      "Var: 0.0007244206379241792\n",
      "0.07663314749813556 >= 0.07590872686021137 + 0.0007244206379241792 = 0.07663314749813555\n",
      "Polynomial degree: 2\n",
      "Error: 0.056410403544564024\n",
      "Bias^2: 0.05535901689649304\n",
      "Var: 0.001051386648070976\n",
      "0.056410403544564024 >= 0.05535901689649304 + 0.001051386648070976 = 0.05641040354456402\n",
      "Polynomial degree: 3\n",
      "Error: 0.05634623092568808\n",
      "Bias^2: 0.05509363425611796\n",
      "Var: 0.001252596669570119\n",
      "0.05634623092568808 >= 0.05509363425611796 + 0.001252596669570119 = 0.05634623092568808\n",
      "Polynomial degree: 4\n",
      "Error: 0.04196236276188005\n",
      "Bias^2: 0.04058456044625173\n",
      "Var: 0.0013778023156283282\n",
      "0.04196236276188005 >= 0.04058456044625173 + 0.0013778023156283282 = 0.041962362761880055\n",
      "Polynomial degree: 5\n",
      "Error: 0.04267077903525733\n",
      "Bias^2: 0.040688296097673146\n",
      "Var: 0.0019824829375841933\n",
      "0.04267077903525733 >= 0.040688296097673146 + 0.0019824829375841933 = 0.04267077903525734\n",
      "Polynomial degree: 6\n",
      "Error: 0.03471750363669565\n",
      "Bias^2: 0.03260155806097128\n",
      "Var: 0.0021159455757243494\n",
      "0.03471750363669565 >= 0.03260155806097128 + 0.0021159455757243494 = 0.03471750363669563\n",
      "Polynomial degree: 7\n",
      "Error: 0.03617945273129057\n",
      "Bias^2: 0.031848046859032954\n",
      "Var: 0.004331405872257625\n",
      "0.03617945273129057 >= 0.031848046859032954 + 0.004331405872257625 = 0.03617945273129058\n",
      "Polynomial degree: 8\n",
      "Error: 0.030679446668237787\n",
      "Bias^2: 0.026880352935396985\n",
      "Var: 0.0037990937328407997\n",
      "0.030679446668237787 >= 0.026880352935396985 + 0.0037990937328407997 = 0.030679446668237784\n",
      "Polynomial degree: 9\n",
      "Error: 0.03433994986175967\n",
      "Bias^2: 0.0266008166174423\n",
      "Var: 0.007739133244317367\n",
      "0.03433994986175967 >= 0.0266008166174423 + 0.007739133244317367 = 0.03433994986175967\n",
      "Polynomial degree: 10\n",
      "Error: 0.03655051920533507\n",
      "Bias^2: 0.0224546931055983\n",
      "Var: 0.014095826099736784\n",
      "0.03655051920533507 >= 0.0224546931055983 + 0.014095826099736784 = 0.036550519205335086\n",
      "Polynomial degree: 11\n",
      "Error: 0.11956573866546334\n",
      "Bias^2: 0.025911685837908864\n",
      "Var: 0.09365405282755448\n",
      "0.11956573866546334 >= 0.025911685837908864 + 0.09365405282755448 = 0.11956573866546336\n"
     ]
    },
    {
     "data": {
      "image/png": "[encoded data removed]",
      "text/plain": [
       "<Figure size 640x480 with 1 Axes>"
      ]
     },
     "metadata": {},
     "output_type": "display_data"
    }
   ],
   "source": [
    "import matplotlib.pyplot as plt\n",
    "import numpy as np\n",
    "from sklearn.linear_model import LinearRegression, Ridge, Lasso\n",
    "from sklearn.preprocessing import PolynomialFeatures\n",
    "from sklearn.model_selection import train_test_split\n",
    "from sklearn.pipeline import make_pipeline\n",
    "from sklearn.utils import resample\n",
    "\n",
    "np.random.seed(122)\n",
    "n = 100\n",
    "n_boostraps = 1000\n",
    "maxdegree = 12\n",
    "\n",
    "\n",
    "# Make data set.\n",
    "x = np.linspace(-3, 3, n).reshape(-1, 1)\n",
    "y = f(x) + np.random.normal(0, 0.1, x.shape)\n",
    "error = np.zeros(maxdegree)\n",
    "bias = np.zeros(maxdegree)\n",
    "variance = np.zeros(maxdegree)\n",
    "polydegree = np.zeros(maxdegree)\n",
    "x_train, x_test, y_train, y_test = train_test_split(x, y, test_size=0.2)\n",
    "\n",
    "for degree in range(maxdegree):\n",
    "    model = make_pipeline(PolynomialFeatures(degree=degree), LinearRegression(fit_intercept=False))\n",
    "    y_pred = np.empty((y_test.shape[0], n_boostraps))\n",
    "    for i in range(n_boostraps):\n",
    "        x_, y_ = resample(x_train, y_train)\n",
    "        y_pred[:, i] = model.fit(x_, y_).predict(x_test).ravel()\n",
    "\n",
    "    polydegree[degree] = degree\n",
    "    error[degree] = np.mean( np.mean((y_test - y_pred)**2, axis=1, keepdims=True) )\n",
    "    bias[degree] = np.mean( (y_test - np.mean(y_pred, axis=1, keepdims=True))**2 )\n",
    "    variance[degree] = np.mean( np.var(y_pred, axis=1, keepdims=True) )\n",
    "    print('Polynomial degree:', degree)\n",
    "    print('Error:', error[degree])\n",
    "    print('Bias^2:', bias[degree])\n",
    "    print('Var:', variance[degree])\n",
    "    print('{} >= {} + {} = {}'.format(error[degree], bias[degree], variance[degree], bias[degree]+variance[degree]))\n",
    "\n",
    "plt.plot(polydegree, error, label='Error')\n",
    "plt.plot(polydegree, bias, label='bias')\n",
    "plt.plot(polydegree, variance, label='Variance')\n",
    "plt.legend()\n",
    "plt.show()"
   ]
  },
  {
   "cell_type": "code",
   "execution_count": null,
   "id": "005de2ac",
   "metadata": {},
   "outputs": [
    {
     "data": {
      "text/plain": [
       "[<matplotlib.lines.Line2D at 0x1af779dd160>]"
      ]
     },
     "execution_count": 93,
     "metadata": {},
     "output_type": "execute_result"
    },
    {
     "data": {
      "image/png": "[encoded data removed]",
      "text/plain": [
       "<Figure size 640x480 with 1 Axes>"
      ]
     },
     "metadata": {},
     "output_type": "display_data"
    }
   ],
   "source": [
    "plt.plot(x,y)"
   ]
  },
  {
   "cell_type": "code",
   "execution_count": null,
   "id": "dbf964ff",
   "metadata": {},
   "outputs": [
    {
     "name": "stdout",
     "output_type": "stream",
     "text": [
      "Polynomial degree: 8\n",
      "Error: 0.4982546171832255\n",
      "Bias^2: 0.08280953891789791\n",
      "Var: 0.4154450782653277\n",
      "0.4982546171832255 >= 0.08280953891789791 + 0.4154450782653277 = 0.4982546171832256\n",
      "Polynomial degree: 8\n",
      "Error: 0.15501688370762132\n",
      "Bias^2: 0.03861349867074333\n",
      "Var: 0.11640338503687794\n",
      "0.15501688370762132 >= 0.03861349867074333 + 0.11640338503687794 = 0.1550168837076213\n",
      "Polynomial degree: 8\n",
      "Error: 0.0808482292237718\n",
      "Bias^2: 0.035747871253816677\n",
      "Var: 0.045100357969955096\n",
      "0.0808482292237718 >= 0.035747871253816677 + 0.045100357969955096 = 0.08084822922377177\n",
      "Polynomial degree: 8\n",
      "Error: 0.03693223168694124\n",
      "Bias^2: 0.030203743109292334\n",
      "Var: 0.006728488577648913\n",
      "0.03693223168694124 >= 0.030203743109292334 + 0.006728488577648913 = 0.03693223168694125\n"
     ]
    },
    {
     "data": {
      "image/png": "[encoded data removed]",
      "text/plain": [
       "<Figure size 640x480 with 1 Axes>"
      ]
     },
     "metadata": {},
     "output_type": "display_data"
    }
   ],
   "source": [
    "#various n evaluated with bootstrap\n",
    "np.random.seed(122)\n",
    "n_boostraps = 1000\n",
    "degree = 8\n",
    "\n",
    "values_n = np.array([30,40,50,60])\n",
    "# Make data set.\n",
    "x = np.linspace(-3, 3, int(np.max(values_n)/0.8+2)).reshape(-1, 1)\n",
    "y = f(x) + np.random.normal(0, 0.1, x.shape)\n",
    "error = np.zeros(len(values_n))\n",
    "bias = np.zeros(len(values_n))\n",
    "variance = np.zeros(len(values_n))\n",
    "x_train, x_test, y_train, y_test = train_test_split(x, y, test_size=0.2)\n",
    "\n",
    "for k, n in enumerate(values_n):\n",
    "    model = make_pipeline(PolynomialFeatures(degree=degree), LinearRegression(fit_intercept=False))\n",
    "    y_pred = np.empty((y_test.shape[0], n_boostraps))\n",
    "    x_train_n, x_discard, y_train_n, y_discard = train_test_split(x_train, y_train, train_size = n)\n",
    "    for i in range(n_boostraps):\n",
    "        x_, y_ = resample(x_train_n, y_train_n)\n",
    "        y_pred[:, i] = model.fit(x_, y_).predict(x_test).ravel()\n",
    "\n",
    "    error[k] = np.mean( np.mean((y_test - y_pred)**2, axis=1, keepdims=True) )\n",
    "    bias[k] = np.mean( (y_test - np.mean(y_pred, axis=1, keepdims=True))**2 )\n",
    "    variance[k] = np.mean( np.var(y_pred, axis=1, keepdims=True) )\n",
    "    print('Polynomial degree:', degree)\n",
    "    print('Error:', error[k])\n",
    "    print('Bias^2:', bias[k])\n",
    "    print('Var:', variance[k])\n",
    "    print('{} >= {} + {} = {}'.format(error[k], bias[k], variance[k], bias[k]+variance[k]))\n",
    "\n",
    "plt.plot(values_n, error, label='Error')\n",
    "plt.plot(values_n, bias, label='bias')\n",
    "plt.plot(values_n, variance, label='Variance')\n",
    "plt.legend()\n",
    "plt.show()"
   ]
  },
  {
   "cell_type": "code",
   "execution_count": null,
   "id": "5e687996",
   "metadata": {},
   "outputs": [
    {
     "name": "stdout",
     "output_type": "stream",
     "text": [
      "(16, 1)\n",
      "(16,)\n",
      "(16, 1)\n"
     ]
    },
    {
     "data": {
      "text/plain": [
       "<matplotlib.collections.PathCollection at 0x1af777684c0>"
      ]
     },
     "execution_count": 95,
     "metadata": {},
     "output_type": "execute_result"
    },
    {
     "data": {
      "image/png": "[encoded data removed]",
      "text/plain": [
       "<Figure size 640x480 with 1 Axes>"
      ]
     },
     "metadata": {},
     "output_type": "display_data"
    }
   ],
   "source": [
    "print(x_test.shape)\n",
    "print(y_pred[:,0].shape)\n",
    "print(y_test.shape)\n",
    "plt.plot(x,y)\n",
    "plt.scatter(x_test, y_pred[:,0])\n",
    "plt.scatter(x_test, y_test)"
   ]
  },
  {
   "cell_type": "markdown",
   "id": "6a0548bf",
   "metadata": {
    "editable": true
   },
   "source": [
    "### Part h):  Cross-validation as resampling techniques, adding more complexity\n",
    "\n",
    "The aim here is to implement another widely popular\n",
    "resampling technique, the so-called cross-validation method.  \n",
    "\n",
    "Implement the $k$-fold cross-validation algorithm (feel free to use\n",
    "the functionality of **Scikit-Learn** or write your own code) and\n",
    "evaluate again the MSE function resulting from the test folds.\n",
    "\n",
    "Compare the MSE you get from your cross-validation code with the one\n",
    "you got from your **bootstrap** code from the previous exercise. Comment and interpret your results. \n",
    "\n",
    "In addition to using the ordinary least squares method, you should\n",
    "include both Ridge and Lasso regression in the final analysis."
   ]
  },
  {
   "cell_type": "markdown",
   "id": "df9845cb",
   "metadata": {
    "editable": true
   },
   "source": [
    "## Background literature\n",
    "\n",
    "1. For a discussion and derivation of the variances and mean squared errors using linear regression, see the [Lecture notes on ridge regression by Wessel N. van Wieringen](https://arxiv.org/abs/1509.09169)\n",
    "\n",
    "2. The textbook of [Trevor Hastie, Robert Tibshirani, Jerome H. Friedman, The Elements of Statistical Learning, Springer](https://www.springer.com/gp/book/9780387848570), chapters 3 and 7 are the most relevant ones for the analysis of parts g) and h)."
   ]
  },
  {
   "cell_type": "markdown",
   "id": "b9e04791",
   "metadata": {
    "editable": true
   },
   "source": [
    "## Introduction to numerical projects\n",
    "\n",
    "Here follows a brief recipe and recommendation on how to answer the various questions when preparing your answers. \n",
    "\n",
    "  * Give a short description of the nature of the problem and the eventual  numerical methods you have used.\n",
    "\n",
    "  * Describe the algorithm you have used and/or developed. Here you may find it convenient to use pseudocoding. In many cases you can describe the algorithm in the program itself.\n",
    "\n",
    "  * Include the source code of your program. Comment your program properly. You should have the code at your GitHub/GitLab link. You can also place the code in an appendix of your report.\n",
    "\n",
    "  * If possible, try to find analytic solutions, or known limits in order to test your program when developing the code.\n",
    "\n",
    "  * Include your results either in figure form or in a table. Remember to        label your results. All tables and figures should have relevant captions        and labels on the axes.\n",
    "\n",
    "  * Try to evaluate the reliabilty and numerical stability/precision of your results. If possible, include a qualitative and/or quantitative discussion of the numerical stability, eventual loss of precision etc.\n",
    "\n",
    "  * Try to give an interpretation of you results in your answers to  the problems.\n",
    "\n",
    "  * Critique: if possible include your comments and reflections about the  exercise, whether you felt you learnt something, ideas for improvements and  other thoughts you've made when solving the exercise. We wish to keep this course at the interactive level and your comments can help us improve it.\n",
    "\n",
    "  * Try to establish a practice where you log your work at the  computerlab. You may find such a logbook very handy at later stages in your work, especially when you don't properly remember  what a previous test version  of your program did. Here you could also record  the time spent on solving the exercise, various algorithms you may have tested or other topics which you feel worthy of mentioning."
   ]
  },
  {
   "cell_type": "markdown",
   "id": "3fab6237",
   "metadata": {
    "editable": true
   },
   "source": [
    "## Format for electronic delivery of report and programs\n",
    "\n",
    "The preferred format for the report is a PDF file. You can also use DOC or postscript formats or as an ipython notebook file.  As programming language we prefer that you choose between C/C++, Fortran2008, Julia or Python. The following prescription should be followed when preparing the report:\n",
    "\n",
    "  * Use Canvas to hand in your projects, log in  at  <https://www.uio.no/english/services/it/education/canvas/> with your normal UiO username and password.\n",
    "\n",
    "  * Upload **only** the report file or the link to your GitHub/GitLab or similar typo of  repos!  For the source code file(s) you have developed please provide us with your link to your GitHub/GitLab or similar  domain.  The report file should include all of your discussions and a list of the codes you have developed.  Do not include library files which are available at the course homepage, unless you have made specific changes to them.\n",
    "\n",
    "  * In your GitHub/GitLab or similar repository, please include a folder which contains selected results. These can be in the form of output from your code for a selected set of runs and input parameters.\n",
    "\n",
    "Finally, \n",
    "we encourage you to collaborate. Optimal working groups consist of \n",
    "2-3 students. You can then hand in a common report."
   ]
  },
  {
   "cell_type": "markdown",
   "id": "3388eb60",
   "metadata": {
    "editable": true
   },
   "source": [
    "## Software and needed installations\n",
    "\n",
    "If you have Python installed (we recommend Python3) and you feel pretty familiar with installing different packages, \n",
    "we recommend that you install the following Python packages via **pip** as\n",
    "1. pip install numpy scipy matplotlib ipython scikit-learn tensorflow sympy pandas pillow\n",
    "\n",
    "For Python3, replace **pip** with **pip3**.\n",
    "\n",
    "See below for a discussion of **tensorflow** and **scikit-learn**. \n",
    "\n",
    "For OSX users we recommend also, after having installed Xcode, to install **brew**. Brew allows \n",
    "for a seamless installation of additional software via for example\n",
    "1. brew install python3\n",
    "\n",
    "For Linux users, with its variety of distributions like for example the widely popular Ubuntu distribution\n",
    "you can use **pip** as well and simply install Python as \n",
    "1. sudo apt-get install python3  (or python for python2.7)\n",
    "\n",
    "etc etc. \n",
    "\n",
    "If you don't want to install various Python packages with their dependencies separately, we recommend two widely used distrubutions which set up  all relevant dependencies for Python, namely\n",
    "1. [Anaconda](https://docs.anaconda.com/) Anaconda is an open source distribution of the Python and R programming languages for large-scale data processing, predictive analytics, and scientific computing, that aims to simplify package management and deployment. Package versions are managed by the package management system **conda**\n",
    "\n",
    "2. [Enthought canopy](https://www.enthought.com/product/canopy/)  is a Python distribution for scientific and analytic computing distribution and analysis environment, available for free and under a commercial license.\n",
    "\n",
    "Popular software packages written in Python for ML are\n",
    "\n",
    "* [Scikit-learn](http://scikit-learn.org/stable/), \n",
    "\n",
    "* [Tensorflow](https://www.tensorflow.org/),\n",
    "\n",
    "* [PyTorch](http://pytorch.org/) and \n",
    "\n",
    "* [Keras](https://keras.io/).\n",
    "\n",
    "These are all freely available at their respective GitHub sites. They \n",
    "encompass communities of developers in the thousands or more. And the number\n",
    "of code developers and contributors keeps increasing."
   ]
  }
 ],
 "metadata": {
  "kernelspec": {
   "display_name": "oslo_ex",
   "language": "python",
   "name": "python3"
  },
  "language_info": {
   "codemirror_mode": {
    "name": "ipython",
    "version": 3
   },
   "file_extension": ".py",
   "mimetype": "text/x-python",
   "name": "python",
   "nbconvert_exporter": "python",
   "pygments_lexer": "ipython3",
   "version": "3.8.20"
  }
 },
 "nbformat": 4,
 "nbformat_minor": 5
}
